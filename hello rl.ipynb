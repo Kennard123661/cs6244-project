{
 "cells": [
  {
   "cell_type": "code",
   "execution_count": 1,
   "metadata": {},
   "outputs": [
    {
     "name": "stderr",
     "output_type": "stream",
     "text": [
      "/home/space/anaconda3/envs/cs6244-project/lib/python3.7/site-packages/tensorflow/python/framework/dtypes.py:526: FutureWarning: Passing (type, 1) or '1type' as a synonym of type is deprecated; in a future version of numpy, it will be understood as (type, (1,)) / '(1,)type'.\n",
      "  _np_qint8 = np.dtype([(\"qint8\", np.int8, 1)])\n",
      "/home/space/anaconda3/envs/cs6244-project/lib/python3.7/site-packages/tensorflow/python/framework/dtypes.py:527: FutureWarning: Passing (type, 1) or '1type' as a synonym of type is deprecated; in a future version of numpy, it will be understood as (type, (1,)) / '(1,)type'.\n",
      "  _np_quint8 = np.dtype([(\"quint8\", np.uint8, 1)])\n",
      "/home/space/anaconda3/envs/cs6244-project/lib/python3.7/site-packages/tensorflow/python/framework/dtypes.py:528: FutureWarning: Passing (type, 1) or '1type' as a synonym of type is deprecated; in a future version of numpy, it will be understood as (type, (1,)) / '(1,)type'.\n",
      "  _np_qint16 = np.dtype([(\"qint16\", np.int16, 1)])\n",
      "/home/space/anaconda3/envs/cs6244-project/lib/python3.7/site-packages/tensorflow/python/framework/dtypes.py:529: FutureWarning: Passing (type, 1) or '1type' as a synonym of type is deprecated; in a future version of numpy, it will be understood as (type, (1,)) / '(1,)type'.\n",
      "  _np_quint16 = np.dtype([(\"quint16\", np.uint16, 1)])\n",
      "/home/space/anaconda3/envs/cs6244-project/lib/python3.7/site-packages/tensorflow/python/framework/dtypes.py:530: FutureWarning: Passing (type, 1) or '1type' as a synonym of type is deprecated; in a future version of numpy, it will be understood as (type, (1,)) / '(1,)type'.\n",
      "  _np_qint32 = np.dtype([(\"qint32\", np.int32, 1)])\n",
      "/home/space/anaconda3/envs/cs6244-project/lib/python3.7/site-packages/tensorflow/python/framework/dtypes.py:535: FutureWarning: Passing (type, 1) or '1type' as a synonym of type is deprecated; in a future version of numpy, it will be understood as (type, (1,)) / '(1,)type'.\n",
      "  np_resource = np.dtype([(\"resource\", np.ubyte, 1)])\n"
     ]
    }
   ],
   "source": [
    "import tensorflow as tf"
   ]
  },
  {
   "cell_type": "code",
   "execution_count": 3,
   "metadata": {},
   "outputs": [],
   "source": [
    "num_filters = 25\n",
    "num_convs = 3\n",
    "num_hidden_layers = 3\n",
    "size_hidden_layers = 64\n",
    "\n",
    "X = tf.placeholder(tf.float32, shape=(80, 5, 4, 20)) #(5, 4, 20) statespace size 80 is batch size"
   ]
  },
  {
   "cell_type": "code",
   "execution_count": 4,
   "metadata": {},
   "outputs": [
    {
     "name": "stdout",
     "output_type": "stream",
     "text": [
      "WARNING:tensorflow:From <ipython-input-4-6343b5bba581>:7: conv2d (from tensorflow.python.layers.convolutional) is deprecated and will be removed in a future version.\n",
      "Instructions for updating:\n",
      "Use keras.layers.conv2d instead.\n",
      "WARNING:tensorflow:From /home/space/anaconda3/envs/cs6244-project/lib/python3.7/site-packages/tensorflow/python/framework/op_def_library.py:263: colocate_with (from tensorflow.python.framework.ops) is deprecated and will be removed in a future version.\n",
      "Instructions for updating:\n",
      "Colocations handled automatically by placer.\n",
      "WARNING:tensorflow:From <ipython-input-4-6343b5bba581>:21: flatten (from tensorflow.python.layers.core) is deprecated and will be removed in a future version.\n",
      "Instructions for updating:\n",
      "Use keras.layers.flatten instead.\n",
      "WARNING:tensorflow:From <ipython-input-4-6343b5bba581>:24: dense (from tensorflow.python.layers.core) is deprecated and will be removed in a future version.\n",
      "Instructions for updating:\n",
      "Use keras.layers.dense instead.\n"
     ]
    }
   ],
   "source": [
    "conv_out = tf.layers.conv2d(\n",
    "    inputs=X,\n",
    "    filters=num_filters,\n",
    "    kernel_size=[5, 5],\n",
    "    padding=\"same\",\n",
    "    activation=tf.nn.leaky_relu,\n",
    "    name=\"conv_initial\"\n",
    ")\n",
    "\n",
    "for i in range(0, num_convs - 1):\n",
    "    padding = \"same\" if i < num_convs - 2 else \"valid\"\n",
    "    conv_out = tf.layers.conv2d(\n",
    "        inputs=conv_out,\n",
    "        filters=num_filters,\n",
    "        kernel_size=[3, 3],\n",
    "        padding=padding,\n",
    "        activation=tf.nn.leaky_relu,\n",
    "        name=\"conv_{}\".format(i)\n",
    "    )\n",
    "\n",
    "out = tf.layers.flatten(conv_out)\n",
    "for _ in range(num_hidden_layers):\n",
    "    out = tf.layers.dense(out, size_hidden_layers,\n",
    "                          activation=tf.nn.leaky_relu)"
   ]
  },
  {
   "cell_type": "code",
   "execution_count": 14,
   "metadata": {},
   "outputs": [],
   "source": [
    "def foo(a, b):\n",
    "    z = 10\n",
    "    def bar():\n",
    "        nonlocal z\n",
    "        print(z)\n",
    "        z += 10\n",
    "        print(z)\n",
    "        return 10\n",
    "    return bar"
   ]
  },
  {
   "cell_type": "code",
   "execution_count": 15,
   "metadata": {},
   "outputs": [
    {
     "name": "stdout",
     "output_type": "stream",
     "text": [
      "10\n",
      "20\n"
     ]
    },
    {
     "data": {
      "text/plain": [
       "10"
      ]
     },
     "execution_count": 15,
     "metadata": {},
     "output_type": "execute_result"
    }
   ],
   "source": [
    "foo(2,3)()"
   ]
  },
  {
   "cell_type": "code",
   "execution_count": 6,
   "metadata": {},
   "outputs": [
    {
     "name": "stdout",
     "output_type": "stream",
     "text": [
      "43091\n"
     ]
    }
   ],
   "source": [
    "def num_tf_params():\n",
    "    \"\"\"Prints number of trainable parameters defined\"\"\"\n",
    "    total_parameters = 0\n",
    "    for variable in tf.trainable_variables():\n",
    "        # shape is an array of tf.Dimension\n",
    "        shape = variable.get_shape()\n",
    "        variable_parameters = 1\n",
    "        for dim in shape:\n",
    "            variable_parameters *= dim.value\n",
    "            total_parameters += variable_parameters\n",
    "    print(total_parameters)\n",
    "num_tf_params()"
   ]
  },
  {
   "cell_type": "code",
   "execution_count": 32,
   "metadata": {},
   "outputs": [],
   "source": [
    "my_dict = {}\n",
    "my_dict.update({1: 1})\n",
    "my_dict.update({1: 2})"
   ]
  },
  {
   "cell_type": "code",
   "execution_count": 33,
   "metadata": {},
   "outputs": [
    {
     "data": {
      "text/plain": [
       "{1: 2}"
      ]
     },
     "execution_count": 33,
     "metadata": {},
     "output_type": "execute_result"
    }
   ],
   "source": [
    "my_dict"
   ]
  },
  {
   "cell_type": "code",
   "execution_count": 1,
   "metadata": {},
   "outputs": [
    {
     "name": "stderr",
     "output_type": "stream",
     "text": [
      "/home/space/anaconda3/envs/cs6244-project/lib/python3.7/site-packages/tensorflow/python/framework/dtypes.py:526: FutureWarning: Passing (type, 1) or '1type' as a synonym of type is deprecated; in a future version of numpy, it will be understood as (type, (1,)) / '(1,)type'.\n",
      "  _np_qint8 = np.dtype([(\"qint8\", np.int8, 1)])\n",
      "/home/space/anaconda3/envs/cs6244-project/lib/python3.7/site-packages/tensorflow/python/framework/dtypes.py:527: FutureWarning: Passing (type, 1) or '1type' as a synonym of type is deprecated; in a future version of numpy, it will be understood as (type, (1,)) / '(1,)type'.\n",
      "  _np_quint8 = np.dtype([(\"quint8\", np.uint8, 1)])\n",
      "/home/space/anaconda3/envs/cs6244-project/lib/python3.7/site-packages/tensorflow/python/framework/dtypes.py:528: FutureWarning: Passing (type, 1) or '1type' as a synonym of type is deprecated; in a future version of numpy, it will be understood as (type, (1,)) / '(1,)type'.\n",
      "  _np_qint16 = np.dtype([(\"qint16\", np.int16, 1)])\n",
      "/home/space/anaconda3/envs/cs6244-project/lib/python3.7/site-packages/tensorflow/python/framework/dtypes.py:529: FutureWarning: Passing (type, 1) or '1type' as a synonym of type is deprecated; in a future version of numpy, it will be understood as (type, (1,)) / '(1,)type'.\n",
      "  _np_quint16 = np.dtype([(\"quint16\", np.uint16, 1)])\n",
      "/home/space/anaconda3/envs/cs6244-project/lib/python3.7/site-packages/tensorflow/python/framework/dtypes.py:530: FutureWarning: Passing (type, 1) or '1type' as a synonym of type is deprecated; in a future version of numpy, it will be understood as (type, (1,)) / '(1,)type'.\n",
      "  _np_qint32 = np.dtype([(\"qint32\", np.int32, 1)])\n",
      "/home/space/anaconda3/envs/cs6244-project/lib/python3.7/site-packages/tensorflow/python/framework/dtypes.py:535: FutureWarning: Passing (type, 1) or '1type' as a synonym of type is deprecated; in a future version of numpy, it will be understood as (type, (1,)) / '(1,)type'.\n",
      "  np_resource = np.dtype([(\"resource\", np.ubyte, 1)])\n"
     ]
    }
   ],
   "source": [
    "from human_aware_rl.baselines_utils import get_vectorized_gym_env\n",
    "from overcooked_ai_py.mdp.overcooked_env import OvercookedEnv\n",
    "from overcooked_ai_py.mdp.overcooked_mdp import OvercookedGridworld\n",
    "from human_aware_rl.baselines_utils import RewardShapingEnv\n",
    "from baselines.common.vec_env.subproc_vec_env import SubprocVecEnv\n",
    "import gym"
   ]
  },
  {
   "cell_type": "code",
   "execution_count": 2,
   "metadata": {},
   "outputs": [
    {
     "name": "stdout",
     "output_type": "stream",
     "text": [
      "Box(0.0, 20.0, (5, 4, 20), float32)\n"
     ]
    },
    {
     "name": "stderr",
     "output_type": "stream",
     "text": [
      "/home/space/anaconda3/envs/cs6244-project/lib/python3.7/site-packages/gym/logger.py:30: UserWarning: \u001b[33mWARN: Box bound precision lowered by casting to float32\u001b[0m\n",
      "  warnings.warn(colorize('%s: %s'%('WARN', msg % args), 'yellow'))\n"
     ]
    }
   ],
   "source": [
    "mdp_params = {\n",
    "                'layout_name': 'simple',\n",
    "                'start_order_list': None,\n",
    "                'rew_shaping_params': {'PLACEMENT_IN_POT_REW': 3, 'DISH_PICKUP_REWARD': 3, 'SOUP_PICKUP_REWARD': 5, 'DISH_DISP_DISTANCE_REW': 0, 'POT_DISTANCE_REW': 0, 'SOUP_DISTANCE_REW': 0}\n",
    "             }\n",
    "\n",
    "env_params = {'horizon': 400}\n",
    "params = {\n",
    "    'mdp_params': mdp_params,\n",
    "    'env_params': env_params,\n",
    "#     'sim_threads': 2,\n",
    "    'RUN_TYPE': \"ppo\"\n",
    "}\n",
    "\n",
    "mdp = OvercookedGridworld.from_layout_name(**params[\"mdp_params\"])\n",
    "env = OvercookedEnv(mdp, **params[\"env_params\"])\n",
    "featurize_fn=lambda x: mdp.lossless_state_encoding(x)\n",
    "\n",
    "def gym_env_fn():\n",
    "    gym_env = gym.make('Overcooked-v0')\n",
    "    if params[\"RUN_TYPE\"] == \"joint_ppo\":\n",
    "        # If doing joint training, action space will be different (^2 compared to single agent training)\n",
    "        gym_env.custom_init(env, joint_actions=True,\n",
    "                            featurize_fn=featurize_fn, baselines=True)\n",
    "    else:\n",
    "        gym_env.custom_init(\n",
    "            env, featurize_fn=featurize_fn, baselines=True)\n",
    "    return gym_env\n",
    "single_env = gym_env_fn()\n",
    "\n",
    "# box (self.low.min(), self.high.max(), self.shape, self.dtype)\n",
    "# shape (5, 4, 20)\n",
    "print(single_env.observation_space) "
   ]
  },
  {
   "cell_type": "code",
   "execution_count": 114,
   "metadata": {},
   "outputs": [],
   "source": [
    "def add_tax_and_shipping(price):\n",
    "    \"\"\"Add tax and shipping\n",
    "    \"\"\"    \n",
    "    \n",
    "    tax = tf.get_variable(\"tax\", (), dtype=tf.float32,\n",
    "                          initializer=tf.constant_initializer(0.05))  # 0.05%\n",
    "    shipping = tf.get_variable(\"shipping\", (), dtype=tf.float32,\n",
    "                            initializer=tf.constant_initializer(10.0))  # $10    \n",
    "\n",
    "    tax = tf.Print(tax, [tax], message=\"Fuck you\")\n",
    "    total_price = price * (1.0 + tax) + shipping\n",
    "        \n",
    "    return total_price"
   ]
  },
  {
   "cell_type": "code",
   "execution_count": 113,
   "metadata": {},
   "outputs": [],
   "source": [
    "import sys\n",
    "\n",
    "def main():\n",
    "    with tf.variable_scope(\"other_charge\", reuse=tf.AUTO_REUSE) as scope:\n",
    "        book_price = add_tax_and_shipping(10.0)\n",
    "        sketchpad_price = add_tax_and_shipping(20.0)    \n",
    "    init_op = tf.global_variables_initializer()  # Set up operator to assign all init values to variables    \n",
    "    \n",
    "    with tf.Session() as s:\n",
    "        s.run(init_op)  # Actually assign initial value to variables        \n",
    "        \n",
    "        price = s.run(book_price)\n",
    "        print(\"Price of the book: %f\" % (price))        \n",
    "    \n",
    "        price = s.run(sketchpad_price)\n",
    "        print(\"Price of the sketchpad: %f\" % (price))    # Try to double tax!\n",
    "    \n",
    "    graph = tf.get_default_graph()\n",
    "    tax = graph.get_tensor_by_name(\"other_charge/tax:0\")    \n",
    "    print(\"Doubling tax\")\n",
    "    double_tax = tf.assign(tax, tax * 2.0)\n",
    "    \n",
    "    with tf.Session() as s:\n",
    "        s.run(init_op)  # Actually assign initial value to variables\n",
    "        s.run(double_tax)\n",
    "            \n",
    "        price = s.run(book_price)\n",
    "        print(\"Price of the book: %f\" % (price))        \n",
    "        price = s.run(sketchpad_price)\n",
    "        print(\"Price of the sketchpad: %f\" % (price))"
   ]
  },
  {
   "cell_type": "code",
   "execution_count": 101,
   "metadata": {},
   "outputs": [],
   "source": [
    "sess = tf.Session()\n",
    "with sess.as_default():\n",
    "    tensor = tf.range(10)\n",
    "    print_op = tf.print(tensor)\n",
    "    with tf.control_dependencies([print_op]):\n",
    "        out = tf.add(tensor, tensor)\n",
    "    sess.run(out)"
   ]
  },
  {
   "cell_type": "code",
   "execution_count": 117,
   "metadata": {},
   "outputs": [
    {
     "name": "stdout",
     "output_type": "stream",
     "text": [
      "Price of the book: 20.500000\n",
      "Price of the sketchpad: 31.000000\n",
      "Doubling tax\n",
      "Price of the book: 21.000000\n",
      "Price of the sketchpad: 32.000000\n"
     ]
    }
   ],
   "source": [
    "main()"
   ]
  },
  {
   "cell_type": "code",
   "execution_count": 118,
   "metadata": {},
   "outputs": [
    {
     "name": "stdout",
     "output_type": "stream",
     "text": [
      "<tf.Variable 'conv_initial/kernel:0' shape=(5, 5, 20, 25) dtype=float32_ref>\n",
      "<tf.Variable 'conv_initial/bias:0' shape=(25,) dtype=float32_ref>\n",
      "<tf.Variable 'conv_0/kernel:0' shape=(3, 3, 25, 25) dtype=float32_ref>\n",
      "<tf.Variable 'conv_0/bias:0' shape=(25,) dtype=float32_ref>\n",
      "<tf.Variable 'conv_1/kernel:0' shape=(3, 3, 25, 25) dtype=float32_ref>\n",
      "<tf.Variable 'conv_1/bias:0' shape=(25,) dtype=float32_ref>\n",
      "<tf.Variable 'dense/kernel:0' shape=(150, 64) dtype=float32_ref>\n",
      "<tf.Variable 'dense/bias:0' shape=(64,) dtype=float32_ref>\n",
      "<tf.Variable 'dense_1/kernel:0' shape=(64, 64) dtype=float32_ref>\n",
      "<tf.Variable 'dense_1/bias:0' shape=(64,) dtype=float32_ref>\n",
      "<tf.Variable 'dense_2/kernel:0' shape=(64, 64) dtype=float32_ref>\n",
      "<tf.Variable 'dense_2/bias:0' shape=(64,) dtype=float32_ref>\n",
      "<tf.Variable 'other_charge/tax:0' shape=() dtype=float32_ref>\n",
      "<tf.Variable 'other_charge/shipping:0' shape=() dtype=float32_ref>\n"
     ]
    }
   ],
   "source": [
    "for i in tf.get_collection(tf.GraphKeys.GLOBAL_VARIABLES):\n",
    "    print(i)   # i.name if you want just a name"
   ]
  },
  {
   "cell_type": "code",
   "execution_count": 135,
   "metadata": {},
   "outputs": [],
   "source": [
    "import pickle\n",
    "# with open('/home/space/Github/cs6244-project/step_dict.pkl', 'rb') as handle:\n",
    "#     targ_dict = pickle.load(handle)\n",
    "\n",
    "with open('/home/space/Github/cs6244-project/ppo2_slices.pkl', 'rb') as handle:\n",
    "    slices = pickle.load(handle)"
   ]
  },
  {
   "cell_type": "code",
   "execution_count": 146,
   "metadata": {
    "scrolled": false
   },
   "outputs": [
    {
     "data": {
      "text/plain": [
       "(80,)"
      ]
     },
     "execution_count": 146,
     "metadata": {},
     "output_type": "execute_result"
    }
   ],
   "source": [
    "# 0:obs, 1:returns, 2:masks, 3:actions, 4:values, 5:neglogpacs\n",
    "slices[0].shape\n",
    "slices[1].shape\n",
    "slices[4].shape"
   ]
  },
  {
   "cell_type": "code",
   "execution_count": 151,
   "metadata": {},
   "outputs": [
    {
     "data": {
      "text/plain": [
       "array([0.32372445, 0.27265075, 0.33076563, 0.30054137, 0.31540653,\n",
       "       0.38281867, 0.34678856, 0.25838655, 0.27227175, 0.30964288,\n",
       "       0.27949145, 0.33674482, 0.32170597, 0.34184968, 0.3661455 ,\n",
       "       0.33271924, 0.3113713 , 0.37650043, 0.33786356, 0.38796183,\n",
       "       0.3680344 , 0.37551874, 0.33624572, 0.27727935, 0.3470393 ,\n",
       "       0.2574189 , 0.2795708 , 0.36556718, 0.37551874, 0.32566717,\n",
       "       0.27279112, 0.293265  , 0.37818536, 0.32976893, 0.36590424,\n",
       "       0.32545403, 0.31845722, 0.37117746, 0.30463475, 0.38244563,\n",
       "       0.30681056, 0.33703414, 0.2794098 , 0.3379752 , 0.37882438,\n",
       "       0.26318234, 0.37551874, 0.30454573, 0.33562243, 0.39674556,\n",
       "       0.317602  , 0.29733938, 0.34832287, 0.40196285, 0.34038517,\n",
       "       0.38265267, 0.3782602 , 0.348781  , 0.36490828, 0.35826206,\n",
       "       0.3385953 , 0.3928745 , 0.34511355, 0.35877404, 0.39462367,\n",
       "       0.39148033, 0.3401316 , 0.3603846 , 0.3658044 , 0.33541465,\n",
       "       0.3043552 , 0.40549496, 0.27981564, 0.36293164, 0.29597318,\n",
       "       0.34287834, 0.25984508, 0.30653462, 0.320828  , 0.34421632],\n",
       "      dtype=float32)"
      ]
     },
     "execution_count": 151,
     "metadata": {},
     "output_type": "execute_result"
    }
   ],
   "source": [
    "slices[4]"
   ]
  },
  {
   "cell_type": "code",
   "execution_count": 134,
   "metadata": {},
   "outputs": [
    {
     "name": "stdout",
     "output_type": "stream",
     "text": [
      "Hello (1, 2, 3)\n"
     ]
    }
   ],
   "source": [
    "def f1(*args):\n",
    "    for name in args:\n",
    "        print(\"Hello\", name)\n",
    "f1((1,2,3))"
   ]
  },
  {
   "cell_type": "code",
   "execution_count": 153,
   "metadata": {},
   "outputs": [],
   "source": [
    "from human_aware_rl.ppo.ppo import get_ppo_agent"
   ]
  },
  {
   "cell_type": "code",
   "execution_count": 155,
   "metadata": {},
   "outputs": [
    {
     "name": "stdout",
     "output_type": "stream",
     "text": [
      "INFO:tensorflow:Restoring parameters from /home/space/Github/cs6244-project/checkpoints/ppo_runs/ppo_bc_train_simple/seed9456/best/variables/variables\n"
     ]
    }
   ],
   "source": [
    "# /home/space/Github/cs6244-project/human_aware_rl/experiments/ppo_bc_experiments.py\n",
    "agent_ppo_bc_train, ppo_config =  get_ppo_agent('ppo_bc_train_simple', 9456, best=True)"
   ]
  },
  {
   "cell_type": "code",
   "execution_count": 157,
   "metadata": {},
   "outputs": [
    {
     "data": {
      "text/plain": [
       "{'state_policy': <function human_aware_rl.baselines_utils.get_model_policy.<locals>.state_policy>,\n",
       " 'direct_policy': <function human_aware_rl.baselines_utils.get_model_policy.<locals>.encoded_state_policy>,\n",
       " 'history': [],\n",
       " 'stochastic': True,\n",
       " 'action_probs': False}"
      ]
     },
     "execution_count": 157,
     "metadata": {},
     "output_type": "execute_result"
    }
   ],
   "source": [
    "agent_ppo_bc_train.__dict__"
   ]
  },
  {
   "cell_type": "code",
   "execution_count": 17,
   "metadata": {
    "scrolled": true
   },
   "outputs": [],
   "source": [
    "my_dict = {}\n",
    "for k,v in my_dict.items():\n",
    "    print(k,v)"
   ]
  },
  {
   "cell_type": "code",
   "execution_count": 8,
   "metadata": {
    "scrolled": true
   },
   "outputs": [
    {
     "data": {
      "text/plain": [
       "(1, 2, 3)"
      ]
     },
     "execution_count": 8,
     "metadata": {},
     "output_type": "execute_result"
    }
   ],
   "source": [
    "tuple([1,2,3])"
   ]
  },
  {
   "cell_type": "code",
   "execution_count": 16,
   "metadata": {},
   "outputs": [
    {
     "data": {
      "text/plain": [
       "array(True)"
      ]
     },
     "execution_count": 16,
     "metadata": {},
     "output_type": "execute_result"
    }
   ],
   "source": [
    "import numpy as np\n",
    "np.array(True)"
   ]
  }
 ],
 "metadata": {
  "kernelspec": {
   "display_name": "Python [conda env:cs6244-project] *",
   "language": "python",
   "name": "conda-env-cs6244-project-py"
  },
  "language_info": {
   "codemirror_mode": {
    "name": "ipython",
    "version": 3
   },
   "file_extension": ".py",
   "mimetype": "text/x-python",
   "name": "python",
   "nbconvert_exporter": "python",
   "pygments_lexer": "ipython3",
   "version": "3.7.0"
  }
 },
 "nbformat": 4,
 "nbformat_minor": 4
}
